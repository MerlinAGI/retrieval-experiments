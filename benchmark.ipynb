{
 "cells": [
  {
   "cell_type": "code",
   "execution_count": 45,
   "metadata": {},
   "outputs": [],
   "source": [
    "import tiktoken\n",
    "from langchain.text_splitter import CharacterTextSplitter, RecursiveCharacterTextSplitter\n",
    "from typing import List,Tuple\n",
    "import openai\n",
    "import os\n",
    "import numpy as np\n",
    "import dotenv\n",
    "\n",
    "import llm\n",
    "\n",
    "dotenv.load_dotenv()\n",
    "openai.api_key = os.getenv(\"OPENAI_API_KEY\")"
   ]
  },
  {
   "cell_type": "code",
   "execution_count": 2,
   "metadata": {},
   "outputs": [],
   "source": [
    "TEXT_FILE = \"data/input/MSA_Juniper_IBM.txt\""
   ]
  },
  {
   "attachments": {},
   "cell_type": "markdown",
   "metadata": {},
   "source": [
    "## Read text and chunk it up"
   ]
  },
  {
   "cell_type": "code",
   "execution_count": 11,
   "metadata": {},
   "outputs": [
    {
     "name": "stdout",
     "output_type": "stream",
     "text": [
      "Total tokens: 45290\n",
      "Number of chunks: 400: 865, 1000: 393, 4000: 93\n"
     ]
    }
   ],
   "source": [
    "encoding = tiktoken.get_encoding(\"cl100k_base\")\n",
    "def token_count(text):\n",
    "    tokens = encoding.encode(text)\n",
    "    return len(tokens)\n",
    "\n",
    "with open(TEXT_FILE) as f:\n",
    "    all_text = f.read()\n",
    "    # replace non-asci characters\n",
    "    all_text = all_text.encode(\"ascii\", errors=\"ignore\").decode()\n",
    "\n",
    "print(f\"Total tokens: {token_count(all_text)}\")\n",
    "\n",
    "\n",
    "\n",
    "\n",
    "def split_text(text, chunk_size=400):\n",
    "    overlap = chunk_size // 4\n",
    "    splitter = RecursiveCharacterTextSplitter(chunk_size=chunk_size, chunk_overlap=overlap)\n",
    "    chunks = splitter.split_text(text)\n",
    "    return chunks\n",
    "\n",
    "chunks_400 = split_text(all_text, chunk_size=400)\n",
    "chunks_1000 = split_text(all_text, chunk_size=1000)\n",
    "chunks_4000 = split_text(all_text, chunk_size=4000)\n",
    "chunks = chunks_400 + chunks_1000 + chunks_4000\n",
    "\n",
    "print(f\"Number of chunks: 400: {len(chunks_400)}, 1000: {len(chunks_1000)}, 4000: {len(chunks_4000)}\")\n"
   ]
  },
  {
   "attachments": {},
   "cell_type": "markdown",
   "metadata": {},
   "source": [
    "## Embeddings"
   ]
  },
  {
   "cell_type": "code",
   "execution_count": 40,
   "metadata": {},
   "outputs": [],
   "source": [
    "def get_embedding_ada(texts:List[str]):\n",
    "    model = \"text-embedding-ada-002\"\n",
    "    data = openai.Embedding.create(input = texts, model=model)['data']\n",
    "    return np.array([d['embedding'] for d in data])\n",
    "\n",
    "def load_embeddings_ada(texts:List[str]):\n",
    "    emb_file = \"data/embeddings/ada.npy\"\n",
    "    if os.path.exists(emb_file):\n",
    "        return np.load(emb_file)\n",
    "    embs = get_embedding_ada(texts)\n",
    "    os.makedirs(os.path.dirname(emb_file), exist_ok=True)\n",
    "    np.save(emb_file, embs)\n",
    "    return embs\n",
    "\n",
    "embs_ada = load_embeddings_ada(chunks)\n",
    "    "
   ]
  },
  {
   "cell_type": "code",
   "execution_count": 41,
   "metadata": {},
   "outputs": [],
   "source": [
    "emb_functions = {\n",
    "    \"ada\": get_embedding_ada,\n",
    "}\n",
    "embeddings = {\n",
    "    \"ada\": embs_ada,\n",
    "}"
   ]
  },
  {
   "attachments": {},
   "cell_type": "markdown",
   "metadata": {},
   "source": [
    "## HyDe"
   ]
  },
  {
   "cell_type": "code",
   "execution_count": 53,
   "metadata": {},
   "outputs": [],
   "source": [
    "def hypothetical_answers(question, n=3):\n",
    "    prompt = \"Write a passage of a service agreement contract between Juniper (we, \\\"Customer\\\") and IBM (them, \\\"Provider\\\") that answers the user's question. Do not use the names but only use Customer and Provider.\"\n",
    "    return llm.complete(prompt, question, model=\"turbo\", temp=0.7, max_tokens=200, n=n, return_list=True)\n",
    "\n",
    "def avg_embedding(answers, emb_type=\"ada\"):\n",
    "    answ_embs = emb_functions[emb_type](answers)\n",
    "    avg = np.mean(answ_embs, axis=0)\n",
    "    # print the mean cosine similarity to the average\n",
    "    closeness = np.average([np.dot(avg, emb) for emb in answ_embs])\n",
    "    print(f\"Similarity within hypotheticals: {closeness:.3f}\")\n",
    "    return avg"
   ]
  },
  {
   "attachments": {},
   "cell_type": "markdown",
   "metadata": {},
   "source": [
    "## Retrieval"
   ]
  },
  {
   "cell_type": "code",
   "execution_count": 54,
   "metadata": {},
   "outputs": [],
   "source": [
    "def get_context_cos(text, emb_type=\"ada\", top_k=1000, text_embedding=None) -> List[Tuple[str, float]]:\n",
    "    if text_embedding is None:\n",
    "        text_embedding = emb_functions[emb_type]([text])[0]\n",
    "    embs = embeddings[emb_type]\n",
    "    \n",
    "    # find argmax of cosine similarity. All vectors are normalized, so this is equivalent to argmax of dot product\n",
    "    cos_sim = np.dot(embs, text_embedding)\n",
    "    top_k_indices = np.argsort(cos_sim)[-top_k:]\n",
    "    top_k_indices = top_k_indices[::-1]\n",
    "    return [(chunks[i], cos_sim[i]) for i in top_k_indices]\n",
    "\n",
    "def print_context(context: List[Tuple[str, float]]):\n",
    "    for i, (chunk, cos) in enumerate(context):\n",
    "        print(\"-\"*30 + f\" Result {i}: {cos:.3f} \" + \"-\"*30)\n",
    "        print(chunk)\n",
    "\n",
    "def answer_pos_in_context(context: List[Tuple[str, float]], answer)-> Tuple[int, float]:\n",
    "    for i, (chunk, cos) in enumerate(context):\n",
    "        if answer in chunk:\n",
    "            return i, cos\n",
    "    return None, None\n",
    "\n",
    "def eval_context(context, answer, do_print_context=False):\n",
    "    #context = get_context_cos(question, emb_type=emb_type, top_k=top_k)\n",
    "    top_score = context[0][1]\n",
    "    answer_pos, answer_score = answer_pos_in_context(context, answer)\n",
    "    print(f\"Answer pos: {answer_pos}. Answer score: {answer_score:.3f}. First result score: {top_score:.3f}\")\n",
    "    if do_print_context:\n",
    "        print_context(context)\n",
    "    return answer_pos\n",
    "\n",
    "def run_test(question, answer, emb_type=\"ada\", top_k=1000, do_print_context=False):\n",
    "    context = get_context_cos(question, emb_type=emb_type, top_k=top_k)\n",
    "    answer_pos = eval_context(context, answer, do_print_context=do_print_context)\n",
    "    return answer_pos\n",
    "\n",
    "def run_test_hyde(question, answer, emb_type=\"ada\", top_k=1000, do_print_context=False):\n",
    "    hyde_answer_emb = avg_embedding(hypothetical_answers(question), emb_type=emb_type)\n",
    "    context = get_context_cos(question, emb_type=emb_type, top_k=top_k, text_embedding=hyde_answer_emb)\n",
    "    answer_pos = eval_context(context, answer, do_print_context=do_print_context)\n",
    "    return answer_pos"
   ]
  },
  {
   "cell_type": "code",
   "execution_count": 56,
   "metadata": {},
   "outputs": [
    {
     "name": "stdout",
     "output_type": "stream",
     "text": [
      "Answer pos: 1. Answer score: 0.802. First result score: 0.807\n",
      "using cached result\n",
      "Similarity within hypotheticals: 0.969\n",
      "Answer pos: 2. Answer score: 0.894. First result score: 0.900\n"
     ]
    },
    {
     "data": {
      "text/plain": [
       "2"
      ]
     },
     "execution_count": 56,
     "metadata": {},
     "output_type": "execute_result"
    }
   ],
   "source": [
    "run_test(\"How often do we have access to training by IBM?\", \"once every Contract Year or upon request after at least thirty(30) days\")\n",
    "run_test_hyde(\"How often do we have access to training by IBM?\", \"once every Contract Year or upon request after at least thirty(30) days\")\n"
   ]
  }
 ],
 "metadata": {
  "kernelspec": {
   "display_name": "Python 3",
   "language": "python",
   "name": "python3"
  },
  "language_info": {
   "codemirror_mode": {
    "name": "ipython",
    "version": 3
   },
   "file_extension": ".py",
   "mimetype": "text/x-python",
   "name": "python",
   "nbconvert_exporter": "python",
   "pygments_lexer": "ipython3",
   "version": "3.8.10"
  },
  "orig_nbformat": 4
 },
 "nbformat": 4,
 "nbformat_minor": 2
}
